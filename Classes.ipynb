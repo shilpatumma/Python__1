{
  "cells": [
    {
      "cell_type": "code",
      "execution_count": null,
      "metadata": {
        "colab": {
          "base_uri": "https://localhost:8080/"
        },
        "id": "k8ZOjhvV6R9a",
        "outputId": "8acf83e0-9e24-4331-a537-f1fd757aba53"
      },
      "outputs": [
        {
          "name": "stdout",
          "output_type": "stream",
          "text": [
            "Employee: harry 12000 ABC Company\n"
          ]
        }
      ],
      "source": [
        "class Employee:\n",
        "    # class variables\n",
        "    company_name = 'ABC Company'\n",
        "\n",
        "    # constructor to initialize the object\n",
        "    def __init__(self):\n",
        "        # instance variables\n",
        "        self.name = 'harry'\n",
        "        self.salary = 12000\n",
        "\n",
        "    # instance method\n",
        "    def show(self):\n",
        "        print('Employee:', self.name, self.salary, self.company_name)\n",
        "\n",
        "# create first object\n",
        "emp1 = Employee()\n",
        "emp1.show()\n",
        "\n",
        "# create second object\n",
        "#emp2 = Employee(\"Emma\", 10000)\n",
        "#emp2.show()\n",
        "\n",
        "\n"
      ]
    },
    {
      "cell_type": "code",
      "execution_count": null,
      "metadata": {
        "colab": {
          "base_uri": "https://localhost:8080/"
        },
        "id": "lKEXkBxw6kuX",
        "outputId": "1ec58200-0d7c-4e10-b170-de013f884c8c"
      },
      "outputs": [
        {
          "name": "stdout",
          "output_type": "stream",
          "text": [
            "Room 1's area: 150\n",
            "Room 3's area: 168\n"
          ]
        }
      ],
      "source": [
        "class Rectangle:\n",
        " def __init__(self):\n",
        "  self.length = 1\n",
        "  self.width = 1\n",
        " def area(self):\n",
        "  return self.length * self.width\n",
        "\n",
        "room_1 = Rectangle()\n",
        "room_1.length = 10\n",
        "room_1.width = 15\n",
        "print(\"Room 1's area:\", room_1.area())\n",
        "room_3 = Rectangle()\n",
        "room_3.length = 12\n",
        "room_3.width = 14\n",
        "print(\"Room 3's area:\", room_3.area())\n"
      ]
    },
    {
      "cell_type": "code",
      "execution_count": null,
      "metadata": {
        "colab": {
          "base_uri": "https://localhost:8080/",
          "height": 211
        },
        "id": "pjXgKxsoNqOX",
        "outputId": "96e6948e-497b-491e-e05b-93b91fce9a8f"
      },
      "outputs": [
        {
          "name": "stdout",
          "output_type": "stream",
          "text": [
            "Employee: Harry 12000 ABC Company\n"
          ]
        },
        {
          "ename": "TypeError",
          "evalue": "Employee.__init__() missing 1 required positional argument: 'salary'",
          "output_type": "error",
          "traceback": [
            "\u001b[0;31m---------------------------------------------------------------------------\u001b[0m",
            "\u001b[0;31mTypeError\u001b[0m                                 Traceback (most recent call last)",
            "\u001b[0;32m<ipython-input-32-4eaaf2cf040e>\u001b[0m in \u001b[0;36m<cell line: 20>\u001b[0;34m()\u001b[0m\n\u001b[1;32m     18\u001b[0m \u001b[0;34m\u001b[0m\u001b[0m\n\u001b[1;32m     19\u001b[0m \u001b[0;31m# create second object\u001b[0m\u001b[0;34m\u001b[0m\u001b[0;34m\u001b[0m\u001b[0m\n\u001b[0;32m---> 20\u001b[0;31m \u001b[0memp2\u001b[0m \u001b[0;34m=\u001b[0m \u001b[0mEmployee\u001b[0m\u001b[0;34m(\u001b[0m\u001b[0;34m\"Emma\"\u001b[0m\u001b[0;34m)\u001b[0m\u001b[0;34m\u001b[0m\u001b[0;34m\u001b[0m\u001b[0m\n\u001b[0m\u001b[1;32m     21\u001b[0m \u001b[0memp2\u001b[0m\u001b[0;34m.\u001b[0m\u001b[0mshow\u001b[0m\u001b[0;34m(\u001b[0m\u001b[0;34m)\u001b[0m\u001b[0;34m\u001b[0m\u001b[0;34m\u001b[0m\u001b[0m\n",
            "\u001b[0;31mTypeError\u001b[0m: Employee.__init__() missing 1 required positional argument: 'salary'"
          ]
        }
      ],
      "source": [
        "class Employee:\n",
        "    # class variables\n",
        "    company_name = 'ABC Company'\n",
        "\n",
        "class Person:\n",
        "    def __init__(self, name, age):\n",
        "        self.name = name\n",
        "        self.age = age\n",
        "    def say_hello(self):\n",
        "        print(f\"Hello, my name is {self.name} and I am {self.age} years old.\")\n",
        "# Create instances of the class\n",
        "person1 = Person(\"Alice\", 30)\n",
        "person2 = Person(\"Bob\", 25)\n",
        "# Access attributes and call methods\n",
        "print(person1.name)  # Output: Alice\n",
        "person2.say_hello()  # Output: Hello, my name is Bob and I am 25 years old\n",
        "    # constructor to initialize the object\n",
        "def __init__(self, name, salary):\n",
        "        # instance variables\n",
        "        self.name = name\n",
        "        self.salary = salary\n",
        "\n",
        "    # instance method\n",
        "def show(self):\n",
        "        print('Employee:', self.name, self.salary, self.company_name)\n",
        "\n",
        "# create first object\n",
        "emp1 = Employee(\"Harry\", 12000)\n",
        "emp1.show()\n",
        "\n",
        "# create second object\n",
        "emp2 = Employee(\"Emma\", 10000)\n",
        "emp2.show()\n"
      ]
    },
    {
      "cell_type": "code",
      "execution_count": null,
      "metadata": {
        "colab": {
          "base_uri": "https://localhost:8080/"
        },
        "id": "bbCh5BPE-Z_I",
        "outputId": "8741134d-8252-4348-da1f-6e134e29ba17"
      },
      "outputs": [
        {
          "name": "stdout",
          "output_type": "stream",
          "text": [
            "Cafe Coffee Order 1 : 8 oz\n",
            "\twith sugar\n",
            "Cafe Coffee Order 2 : 8 oz\n",
            "\twith milk\n"
          ]
        }
      ],
      "source": [
        "class CoffeeOrder:\n",
        "  loc = 'Cafe Coffee'\n",
        "  cls_id = 1\n",
        "  def __init__(self, size=16, milk=False, sugar=False):\n",
        "    self.order_id = CoffeeOrder.cls_id\n",
        "    self.cup_size = size\n",
        "    self.with_milk = milk\n",
        "    self.with_sugar = sugar\n",
        "    CoffeeOrder.cls_id += 1\n",
        "  def change(self, milk, sugar):\n",
        "    self.with_milk = milk\n",
        "    self.with_sugar = sugar\n",
        "  def print_order(self):\n",
        "    print(CoffeeOrder.loc,'Order', self.order_id, ':', self.cup_size, 'oz')\n",
        "    if self.with_milk:\n",
        "      print('\\twith milk')\n",
        "    if self.with_sugar:\n",
        "      print('\\twith sugar')\n",
        "order_1 = CoffeeOrder(8)\n",
        "order_2 = CoffeeOrder(8, True, False)\n",
        "order_1.change(False, True)\n",
        "order_1.print_order()\n",
        "order_2.print_order()"
      ]
    },
    {
      "cell_type": "code",
      "execution_count": null,
      "metadata": {
        "colab": {
          "base_uri": "https://localhost:8080/"
        },
        "id": "2w4ZQN-7p29i",
        "outputId": "7016fa35-793f-441b-cbaf-2ca793a4d3df"
      },
      "outputs": [
        {
          "name": "stdout",
          "output_type": "stream",
          "text": [
            "Alice\n",
            "Hello, my name is Alice and I am 30 years old.\n"
          ]
        }
      ],
      "source": [
        "class Person:\n",
        "  '''this is  doc string'''\n",
        "  def __init__(self, name, age):\n",
        "        self.name = name\n",
        "        self.age = age\n",
        "  def say_hello(self):\n",
        "        print(f\"Hello, my name is {self.name} and I am {self.age} years old.\")\n",
        "# Create instances of the class\n",
        "person1 = Person(\"Alice\", 30)\n",
        "person2 = Person(\"Bob\", 25)\n",
        "# Access attributes and call methods\n",
        "print(person1.name)\n",
        "person1.say_hello()\n",
        "Person.__doc__\n",
        "del person1.name\n"
      ]
    },
    {
      "cell_type": "code",
      "execution_count": null,
      "metadata": {
        "colab": {
          "base_uri": "https://localhost:8080/"
        },
        "id": "XdNqK-M_BWAb",
        "outputId": "a70e34ca-8acd-4440-d97d-630eae709e32"
      },
      "outputs": [
        {
          "name": "stdout",
          "output_type": "stream",
          "text": [
            "Farhan\n",
            "CSE\n"
          ]
        }
      ],
      "source": [
        "class department:\n",
        "    def __init__(self, name,dept):\n",
        "        self.name = name\n",
        "        self.dept = dept\n",
        "    def get_name(self):\n",
        "        return self.name\n",
        "    def get_dept(self):\n",
        "        return self.dept\n",
        "\n",
        "dep=department('Farhan','CSE')\n",
        "print(dep.get_name())\n",
        "print(dep.get_dept())"
      ]
    },
    {
      "cell_type": "code",
      "execution_count": null,
      "metadata": {
        "colab": {
          "base_uri": "https://localhost:8080/"
        },
        "id": "4KxBVmjn6SE7",
        "outputId": "6bc91557-4eb6-4203-f28b-7afefa195631"
      },
      "outputs": [
        {
          "name": "stdout",
          "output_type": "stream",
          "text": [
            "Radius is:  1\n",
            "Area is:  3.14\n",
            "Circumference is:  6.28\n"
          ]
        }
      ],
      "source": [
        "class Circle:\n",
        "    pi = 3.14\n",
        "\n",
        "    # Circle gets instantiated with a radius (default is 1)\n",
        "    def __init__(self, radius=1):\n",
        "        self.radius = radius\n",
        "        self.area = radius * radius * Circle.pi\n",
        "\n",
        "    # Method for resetting Radius\n",
        "    def setRadius(self, new_radius):\n",
        "        self.radius = new_radius\n",
        "        self.area = new_radius * new_radius * self.pi\n",
        "\n",
        "    # Method for getting Circumference\n",
        "    def getCircumference(self):\n",
        "        return self.radius * self.pi * 2\n",
        "\n",
        "\n",
        "c = Circle()\n",
        "\n",
        "print('Radius is: ',c.radius)\n",
        "print('Area is: ',c.area)\n",
        "print('Circumference is: ',c.getCircumference())"
      ]
    },
    {
      "cell_type": "code",
      "execution_count": null,
      "metadata": {
        "colab": {
          "base_uri": "https://localhost:8080/"
        },
        "id": "n5zXJRVV6WR6",
        "outputId": "06c59bd9-134a-44c1-adfc-b98a444f9431"
      },
      "outputs": [
        {
          "name": "stdout",
          "output_type": "stream",
          "text": [
            "Radius is:  2\n",
            "Area is:  12.56\n",
            "Circumference is:  12.56\n"
          ]
        }
      ],
      "source": [
        "c.setRadius(2)\n",
        "\n",
        "print('Radius is: ',c.radius)\n",
        "print('Area is: ',c.area)\n",
        "print('Circumference is: ',c.getCircumference())"
      ]
    },
    {
      "cell_type": "code",
      "execution_count": null,
      "metadata": {
        "colab": {
          "base_uri": "https://localhost:8080/"
        },
        "id": "WYHWyBspNLr6",
        "outputId": "185fc6fb-eae4-441f-d10d-899bbdab46f1"
      },
      "outputs": [
        {
          "name": "stdout",
          "output_type": "stream",
          "text": [
            "Radius is:  1\n",
            "Area is:  3.14\n",
            "Circumference is:  6.28\n"
          ]
        }
      ],
      "source": [
        "class Circle:\n",
        "    pi = 3.14\n",
        "    def __init__(self, radius=1):\n",
        "        self.radius = radius\n",
        "        self.area= radius*radius*Circle.pi\n",
        "\n",
        "    def setRadius(self, new_radius):\n",
        "        self.radius = new_radius\n",
        "        self.area = new_radius*new_radius*self.pi\n",
        "    def getCircumference(self):\n",
        "        return self.radius*self.pi*2\n",
        "\n",
        "c=Circle()\n",
        "print('Radius is: ',c.radius)\n",
        "print('Area is: ',c.area)\n",
        "print('Circumference is: ',c.getCircumference())"
      ]
    },
    {
      "cell_type": "code",
      "execution_count": null,
      "metadata": {
        "colab": {
          "base_uri": "https://localhost:8080/"
        },
        "id": "NWR9q0rdD2Ft",
        "outputId": "4f72aaac-c860-4b89-81dc-0827b9bd996b"
      },
      "outputs": [
        {
          "name": "stdout",
          "output_type": "stream",
          "text": [
            "Radius is:  2\n",
            "Area is:  12.56\n",
            "Circumference is:  12.56\n"
          ]
        }
      ],
      "source": [
        "c.setRadius(2)\n",
        "print('Radius is: ',c.radius)\n",
        "print('Area is: ',c.area)\n",
        "print('Circumference is: ',c.getCircumference())"
      ]
    },
    {
      "cell_type": "code",
      "execution_count": 20,
      "metadata": {
        "colab": {
          "base_uri": "https://localhost:8080/"
        },
        "id": "P6G7a49xD4ZM",
        "outputId": "38869fdb-1251-4773-b45a-04f781c454ba"
      },
      "outputs": [
        {
          "name": "stdout",
          "output_type": "stream",
          "text": [
            "500\n",
            "1000\n"
          ]
        },
        {
          "data": {
            "text/plain": [
              "2000"
            ]
          },
          "execution_count": 20,
          "metadata": {},
          "output_type": "execute_result"
        }
      ],
      "source": [
        "class BankAccount:\n",
        "    def __init__(self, balance=0):\n",
        "        self.balance = balance\n",
        "\n",
        "    def withdraw(self, amount):\n",
        "        self.balance -= amount\n",
        "        return self.balance\n",
        "\n",
        "    def deposit(self, amount):\n",
        "        self.balance += amount\n",
        "        return self.balance\n",
        "\n",
        "account = BankAccount(1000)\n",
        "print(account.withdraw(500))\n",
        "print(account.deposit(500))\n",
        "accound2=BankAccount(2000)\n",
        "accound2.balance"
      ]
    },
    {
      "cell_type": "code",
      "execution_count": 18,
      "metadata": {
        "colab": {
          "base_uri": "https://localhost:8080/"
        },
        "id": "SS1Ynb7_EJB6",
        "outputId": "80efeb21-61db-4c3d-f145-ba536eadc439"
      },
      "outputs": [
        {
          "name": "stdout",
          "output_type": "stream",
          "text": [
            "50\n",
            "200\n",
            "30\n"
          ]
        }
      ],
      "source": [
        "class Rectangle:\n",
        "    def __init__(self, length, width):\n",
        "        self.length = length\n",
        "        self.width = width\n",
        "\n",
        "    def area(self):\n",
        "        return self.length * self.width\n",
        "\n",
        "    def perimeter(self):\n",
        "        return 2 * (self.length + self.width)\n",
        "\n",
        "rectangle = Rectangle(5, 10)\n",
        "print(rectangle.area())\n",
        "rectt2=Rectangle(10,20)\n",
        "print(rectt2.area())\n",
        "print(rectangle.perimeter())"
      ]
    },
    {
      "cell_type": "code",
      "execution_count": 14,
      "metadata": {
        "colab": {
          "base_uri": "https://localhost:8080/",
          "height": 70
        },
        "id": "XDdy-0F7Govj",
        "outputId": "111761c7-ba61-49ff-c68b-41ea2392a594"
      },
      "outputs": [
        {
          "name": "stdout",
          "output_type": "stream",
          "text": [
            "The Great Gatsby by F. Scott Fitzgerald\n",
            "The Catcher in the Rye by J.D. Salinger\n"
          ]
        },
        {
          "data": {
            "application/vnd.google.colaboratory.intrinsic+json": {
              "type": "string"
            },
            "text/plain": [
              "'F. Scott Fitzgerald'"
            ]
          },
          "execution_count": 14,
          "metadata": {},
          "output_type": "execute_result"
        }
      ],
      "source": [
        "class Book:\n",
        "    def __init__(self, title, author, pages):\n",
        "        self.title = title\n",
        "        self.author = author\n",
        "        self.pages = pages\n",
        "\n",
        "\n",
        "    def __str__(self):\n",
        "        return f\"{self.title} by {self.author}\"\n",
        "\n",
        "book = Book(\"The Great Gatsby\", \"F. Scott Fitzgerald\", 180)\n",
        "print(book)\n",
        "book2=Book(\"The Catcher in the Rye\", \"J.D. Salinger\", 208)\n",
        "print(book2)\n",
        "book.author\n"
      ]
    },
    {
      "cell_type": "code",
      "execution_count": 13,
      "metadata": {
        "colab": {
          "base_uri": "https://localhost:8080/",
          "height": 70
        },
        "id": "PsqTxPfUHS97",
        "outputId": "9e4067d4-9dfe-43e3-8c9a-61d5c905b74e"
      },
      "outputs": [
        {
          "name": "stdout",
          "output_type": "stream",
          "text": [
            "2022 Toyota Camry\n",
            "2023 Honda Civic\n"
          ]
        },
        {
          "data": {
            "application/vnd.google.colaboratory.intrinsic+json": {
              "type": "string"
            },
            "text/plain": [
              "'Camry'"
            ]
          },
          "execution_count": 13,
          "metadata": {},
          "output_type": "execute_result"
        }
      ],
      "source": [
        "class Car:\n",
        "    def __init__(self, make, model, year):\n",
        "        self.make = make\n",
        "        self.model = model\n",
        "        self.year = year\n",
        "\n",
        "    def __str__(self):\n",
        "        return f\"{self.year} {self.make} {self.model}\"\n",
        "\n",
        "car = Car(\"Toyota\", \"Camry\", 2022)\n",
        "print(car)\n",
        "car2=Car(\"Honda\",\"Civic\",2023)\n",
        "print(car2)\n",
        "car.model"
      ]
    },
    {
      "cell_type": "code",
      "execution_count": null,
      "metadata": {
        "id": "3yym01xbKH_-"
      },
      "outputs": [],
      "source": []
    }
  ],
  "metadata": {
    "colab": {
      "provenance": []
    },
    "kernelspec": {
      "display_name": "Python 3",
      "name": "python3"
    },
    "language_info": {
      "name": "python"
    }
  },
  "nbformat": 4,
  "nbformat_minor": 0
}
